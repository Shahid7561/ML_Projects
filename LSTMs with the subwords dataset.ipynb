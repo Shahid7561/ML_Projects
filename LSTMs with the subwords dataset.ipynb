{
 "cells": [
  {
   "cell_type": "code",
   "execution_count": 1,
   "id": "f11b58fb",
   "metadata": {},
   "outputs": [],
   "source": [
    "import tensorflow as tf\n",
    "\n",
    "from tensorflow.keras.preprocessing.sequence import pad_sequences"
   ]
  },
  {
   "cell_type": "code",
   "execution_count": 2,
   "id": "4d34ee4a",
   "metadata": {},
   "outputs": [],
   "source": [
    "import numpy as np \n",
    "import pandas as pd\n",
    "\n",
    "dataset = pd.read_csv(\"combined_data.csv\")"
   ]
  },
  {
   "cell_type": "code",
   "execution_count": 3,
   "id": "3c73f856",
   "metadata": {},
   "outputs": [
    {
     "name": "stdout",
     "output_type": "stream",
     "text": [
      "So there is no way for me to plug it in here in the US unless I go by a converter.\n",
      "0\n",
      "\n",
      "\n",
      "Good case Excellent value.\n",
      "1\n",
      "\n",
      "\n"
     ]
    }
   ],
   "source": [
    "# Extract out sentences and labels\n",
    "sentences = dataset['text'].tolist()\n",
    "labels = dataset['sentiment'].tolist()\n",
    "\n",
    "# Print some example sentences and labels\n",
    "for x in range(2):\n",
    "  print(sentences[x])\n",
    "  print(labels[x])\n",
    "  print(\"\\n\")"
   ]
  },
  {
   "cell_type": "markdown",
   "id": "fe67a359",
   "metadata": {},
   "source": [
    "# Create a subwords dataset"
   ]
  },
  {
   "cell_type": "code",
   "execution_count": 4,
   "id": "23e6a5ba",
   "metadata": {},
   "outputs": [
    {
     "name": "stdout",
     "output_type": "stream",
     "text": [
      "Vocab size is  999\n"
     ]
    }
   ],
   "source": [
    "import tensorflow_datasets as tfds\n",
    "\n",
    "vocab_size = 1000\n",
    "tokenizer = tfds.deprecated.text.SubwordTextEncoder.build_from_corpus(sentences, vocab_size, max_subword_length=5)\n",
    "\n",
    "# How big is the vocab size?\n",
    "print(\"Vocab size is \", tokenizer.vocab_size)"
   ]
  },
  {
   "cell_type": "code",
   "execution_count": 6,
   "id": "d5f8ab01",
   "metadata": {},
   "outputs": [
    {
     "name": "stdout",
     "output_type": "stream",
     "text": [
      "[4, 31, 6, 849, 162, 450, 12, 1, 600, 438, 775, 6, 175, 14, 6, 55, 213, 159, 474, 775, 6, 175, 614, 380, 295, 148, 72, 789]\n"
     ]
    }
   ],
   "source": [
    "# Replace sentence data with encoded subwords\n",
    "\n",
    "for i, sentence in enumerate(sentences):\n",
    "  sentences[i] = tokenizer.encode(sentence)\n",
    "\n",
    "# Check the sentences are appropriately replaced\n",
    "print(sentences[5])"
   ]
  },
  {
   "cell_type": "code",
   "execution_count": 7,
   "id": "991797c0",
   "metadata": {},
   "outputs": [],
   "source": [
    "# Final pre-processing\n",
    "import numpy as np\n",
    "\n",
    "max_length = 50\n",
    "trunc_type='post'\n",
    "padding_type='post'\n",
    "\n",
    "# Pad all sequences\n",
    "sequences_padded = pad_sequences(sentences, maxlen=max_length, \n",
    "                                 padding=padding_type, truncating=trunc_type)\n",
    "\n",
    "# Separate out the sentences and labels into training and test sets\n",
    "training_size = int(len(sentences) * 0.8)\n",
    "\n",
    "training_sequences = sequences_padded[0:training_size]\n",
    "testing_sequences = sequences_padded[training_size:]\n",
    "training_labels = labels[0:training_size]\n",
    "testing_labels = labels[training_size:]\n",
    "\n",
    "# Make labels into numpy arrays for use with the network later\n",
    "training_labels_final = np.array(training_labels)\n",
    "testing_labels_final = np.array(testing_labels)"
   ]
  },
  {
   "cell_type": "markdown",
   "id": "a31f8f51",
   "metadata": {},
   "source": [
    "# Create the model using an Embedding"
   ]
  },
  {
   "cell_type": "code",
   "execution_count": 8,
   "id": "987557ed",
   "metadata": {},
   "outputs": [
    {
     "name": "stdout",
     "output_type": "stream",
     "text": [
      "Model: \"sequential\"\n",
      "_________________________________________________________________\n",
      " Layer (type)                Output Shape              Param #   \n",
      "=================================================================\n",
      " embedding (Embedding)       (None, 50, 16)            16000     \n",
      "                                                                 \n",
      " global_average_pooling1d (G  (None, 16)               0         \n",
      " lobalAveragePooling1D)                                          \n",
      "                                                                 \n",
      " dense (Dense)               (None, 6)                 102       \n",
      "                                                                 \n",
      " dense_1 (Dense)             (None, 1)                 7         \n",
      "                                                                 \n",
      "=================================================================\n",
      "Total params: 16,109\n",
      "Trainable params: 16,109\n",
      "Non-trainable params: 0\n",
      "_________________________________________________________________\n"
     ]
    }
   ],
   "source": [
    "embedding_dim = 16\n",
    "\n",
    "model = tf.keras.Sequential([\n",
    "    tf.keras.layers.Embedding(vocab_size, embedding_dim, input_length=max_length),\n",
    "    tf.keras.layers.GlobalAveragePooling1D(), \n",
    "    tf.keras.layers.Dense(6, activation='relu'),\n",
    "    tf.keras.layers.Dense(1, activation='sigmoid')\n",
    "])\n",
    "\n",
    "model.summary()"
   ]
  },
  {
   "cell_type": "markdown",
   "id": "08be938d",
   "metadata": {},
   "source": [
    "# Train the model"
   ]
  },
  {
   "cell_type": "code",
   "execution_count": 9,
   "id": "1b541d28",
   "metadata": {},
   "outputs": [
    {
     "name": "stdout",
     "output_type": "stream",
     "text": [
      "Epoch 1/30\n",
      "50/50 [==============================] - 1s 7ms/step - loss: 0.6932 - accuracy: 0.5129 - val_loss: 0.6943 - val_accuracy: 0.4110\n",
      "Epoch 2/30\n",
      "50/50 [==============================] - 0s 4ms/step - loss: 0.6919 - accuracy: 0.5430 - val_loss: 0.6927 - val_accuracy: 0.4787\n",
      "Epoch 3/30\n",
      "50/50 [==============================] - 0s 4ms/step - loss: 0.6888 - accuracy: 0.6604 - val_loss: 0.6892 - val_accuracy: 0.5940\n",
      "Epoch 4/30\n",
      "50/50 [==============================] - 0s 3ms/step - loss: 0.6823 - accuracy: 0.7495 - val_loss: 0.6794 - val_accuracy: 0.7343\n",
      "Epoch 5/30\n",
      "50/50 [==============================] - 0s 3ms/step - loss: 0.6709 - accuracy: 0.7564 - val_loss: 0.6688 - val_accuracy: 0.7594\n",
      "Epoch 6/30\n",
      "50/50 [==============================] - 0s 3ms/step - loss: 0.6478 - accuracy: 0.7979 - val_loss: 0.6490 - val_accuracy: 0.7694\n",
      "Epoch 7/30\n",
      "50/50 [==============================] - 0s 3ms/step - loss: 0.6142 - accuracy: 0.7985 - val_loss: 0.6193 - val_accuracy: 0.7669\n",
      "Epoch 8/30\n",
      "50/50 [==============================] - 0s 3ms/step - loss: 0.5754 - accuracy: 0.8261 - val_loss: 0.6009 - val_accuracy: 0.7719\n",
      "Epoch 9/30\n",
      "50/50 [==============================] - 0s 3ms/step - loss: 0.5344 - accuracy: 0.8406 - val_loss: 0.5715 - val_accuracy: 0.7845\n",
      "Epoch 10/30\n",
      "50/50 [==============================] - 0s 3ms/step - loss: 0.4949 - accuracy: 0.8449 - val_loss: 0.5499 - val_accuracy: 0.7845\n",
      "Epoch 11/30\n",
      "50/50 [==============================] - 0s 3ms/step - loss: 0.4530 - accuracy: 0.8650 - val_loss: 0.5481 - val_accuracy: 0.7444\n",
      "Epoch 12/30\n",
      "50/50 [==============================] - 0s 3ms/step - loss: 0.4137 - accuracy: 0.8657 - val_loss: 0.5142 - val_accuracy: 0.7870\n",
      "Epoch 13/30\n",
      "50/50 [==============================] - 0s 4ms/step - loss: 0.3788 - accuracy: 0.8807 - val_loss: 0.5091 - val_accuracy: 0.7569\n",
      "Epoch 14/30\n",
      "50/50 [==============================] - 0s 3ms/step - loss: 0.3495 - accuracy: 0.8858 - val_loss: 0.5022 - val_accuracy: 0.7619\n",
      "Epoch 15/30\n",
      "50/50 [==============================] - 0s 3ms/step - loss: 0.3273 - accuracy: 0.8876 - val_loss: 0.4944 - val_accuracy: 0.7694\n",
      "Epoch 16/30\n",
      "50/50 [==============================] - 0s 3ms/step - loss: 0.3041 - accuracy: 0.9014 - val_loss: 0.5035 - val_accuracy: 0.7494\n",
      "Epoch 17/30\n",
      "50/50 [==============================] - 0s 3ms/step - loss: 0.2860 - accuracy: 0.9014 - val_loss: 0.5034 - val_accuracy: 0.7569\n",
      "Epoch 18/30\n",
      "50/50 [==============================] - 0s 3ms/step - loss: 0.2723 - accuracy: 0.9077 - val_loss: 0.5102 - val_accuracy: 0.7544\n",
      "Epoch 19/30\n",
      "50/50 [==============================] - 0s 3ms/step - loss: 0.2562 - accuracy: 0.9109 - val_loss: 0.5125 - val_accuracy: 0.7519\n",
      "Epoch 20/30\n",
      "50/50 [==============================] - 0s 3ms/step - loss: 0.2433 - accuracy: 0.9146 - val_loss: 0.5262 - val_accuracy: 0.7569\n",
      "Epoch 21/30\n",
      "50/50 [==============================] - 0s 3ms/step - loss: 0.2332 - accuracy: 0.9184 - val_loss: 0.5222 - val_accuracy: 0.7494\n",
      "Epoch 22/30\n",
      "50/50 [==============================] - 0s 3ms/step - loss: 0.2215 - accuracy: 0.9209 - val_loss: 0.5338 - val_accuracy: 0.7494\n",
      "Epoch 23/30\n",
      "50/50 [==============================] - 0s 3ms/step - loss: 0.2109 - accuracy: 0.9278 - val_loss: 0.5363 - val_accuracy: 0.7544\n",
      "Epoch 24/30\n",
      "50/50 [==============================] - 0s 3ms/step - loss: 0.2035 - accuracy: 0.9266 - val_loss: 0.5534 - val_accuracy: 0.7519\n",
      "Epoch 25/30\n",
      "50/50 [==============================] - 0s 3ms/step - loss: 0.1948 - accuracy: 0.9309 - val_loss: 0.5815 - val_accuracy: 0.7419\n",
      "Epoch 26/30\n",
      "50/50 [==============================] - 0s 3ms/step - loss: 0.1862 - accuracy: 0.9372 - val_loss: 0.5879 - val_accuracy: 0.7393\n",
      "Epoch 27/30\n",
      "50/50 [==============================] - 0s 3ms/step - loss: 0.1807 - accuracy: 0.9466 - val_loss: 0.5784 - val_accuracy: 0.7544\n",
      "Epoch 28/30\n",
      "50/50 [==============================] - 0s 3ms/step - loss: 0.1744 - accuracy: 0.9397 - val_loss: 0.6024 - val_accuracy: 0.7444\n",
      "Epoch 29/30\n",
      "50/50 [==============================] - 0s 3ms/step - loss: 0.1670 - accuracy: 0.9523 - val_loss: 0.6272 - val_accuracy: 0.7293\n",
      "Epoch 30/30\n",
      "50/50 [==============================] - 0s 3ms/step - loss: 0.1596 - accuracy: 0.9548 - val_loss: 0.6190 - val_accuracy: 0.7494\n"
     ]
    }
   ],
   "source": [
    "num_epochs = 30\n",
    "model.compile(loss='binary_crossentropy',optimizer='adam',metrics=['accuracy'])\n",
    "history = model.fit(training_sequences, training_labels_final, epochs=num_epochs, validation_data=(testing_sequences, testing_labels_final))\n"
   ]
  },
  {
   "cell_type": "markdown",
   "id": "4ba52d84",
   "metadata": {},
   "source": [
    "# Plot the accuracy and loss"
   ]
  },
  {
   "cell_type": "code",
   "execution_count": 10,
   "id": "1d17bdf4",
   "metadata": {},
   "outputs": [
    {
     "data": {
      "image/png": "[encoded data removed]",
      "text/plain": [
       "<Figure size 432x288 with 1 Axes>"
      ]
     },
     "metadata": {
      "needs_background": "light"
     },
     "output_type": "display_data"
    },
    {
     "data": {
      "image/png": "[encoded data removed]",
      "text/plain": [
       "<Figure size 432x288 with 1 Axes>"
      ]
     },
     "metadata": {
      "needs_background": "light"
     },
     "output_type": "display_data"
    }
   ],
   "source": [
    "import matplotlib.pyplot as plt\n",
    "\n",
    "\n",
    "def plot_graphs(history, string):\n",
    "  plt.plot(history.history[string])\n",
    "  plt.plot(history.history['val_'+string])\n",
    "  plt.xlabel(\"Epochs\")\n",
    "  plt.ylabel(string)\n",
    "  plt.legend([string, 'val_'+string])\n",
    "  plt.show()\n",
    "  \n",
    "plot_graphs(history, \"accuracy\")\n",
    "plot_graphs(history, \"loss\")\n"
   ]
  },
  {
   "cell_type": "markdown",
   "id": "8d3ebc29",
   "metadata": {},
   "source": [
    "# Define a function to predict the sentiment of reviews"
   ]
  },
  {
   "cell_type": "code",
   "execution_count": 11,
   "id": "20f99b57",
   "metadata": {},
   "outputs": [],
   "source": [
    "# Define a function to take a series of reviews\n",
    "# and predict whether each one is a positive or negative review\n",
    "\n",
    "# max_length = 100 # previously defined\n",
    "\n",
    "def predict_review(model, new_sentences, maxlen=max_length, show_padded_sequence=True ):\n",
    "  # Keep the original sentences so that we can keep using them later\n",
    "  # Create an array to hold the encoded sequences\n",
    "  new_sequences = []\n",
    "\n",
    "  # Convert the new reviews to sequences\n",
    "  for i, frvw in enumerate(new_sentences):\n",
    "    new_sequences.append(tokenizer.encode(frvw))\n",
    "\n",
    "  trunc_type='post' \n",
    "  padding_type='post'\n",
    "\n",
    "  # Pad all sequences for the new reviews\n",
    "  new_reviews_padded = pad_sequences(new_sequences, maxlen=max_length, \n",
    "                                 padding=padding_type, truncating=trunc_type)             \n",
    "\n",
    "  classes = model.predict(new_reviews_padded)\n",
    "\n",
    "  # The closer the class is to 1, the more positive the review is\n",
    "  for x in range(len(new_sentences)):\n",
    "    \n",
    "    # We can see the padded sequence if desired\n",
    "    # Print the sequence\n",
    "    if (show_padded_sequence):\n",
    "      print(new_reviews_padded[x])\n",
    "    # Print the review as text\n",
    "    print(new_sentences[x])\n",
    "    # Print its predicted class\n",
    "    print(classes[x])\n",
    "    print(\"\\n\")"
   ]
  },
  {
   "cell_type": "code",
   "execution_count": 22,
   "id": "fdb95b87",
   "metadata": {},
   "outputs": [
    {
     "name": "stdout",
     "output_type": "stream",
     "text": [
      "1/1 [==============================] - 0s 31ms/step\n",
      "[385 691  10   1 395   0   0   0   0   0   0   0   0   0   0   0   0   0\n",
      "   0   0   0   0   0   0   0   0   0   0   0   0   0   0   0   0   0   0\n",
      "   0   0   0   0   0   0   0   0   0   0   0   0   0   0]\n",
      "Not worthy the money\n",
      "[0.00546931]\n",
      "\n",
      "\n",
      "[493 228 105 843 175 171 641   0   0   0   0   0   0   0   0   0   0   0\n",
      "   0   0   0   0   0   0   0   0   0   0   0   0   0   0   0   0   0   0\n",
      "   0   0   0   0   0   0   0   0   0   0   0   0   0   0]\n",
      "Best budget watch\n",
      "[0.70639765]\n",
      "\n",
      "\n",
      "[625 105 843 175 309  58   8 171 641 775  23 180 333 840   0   0   0   0\n",
      "   0   0   0   0   0   0   0   0   0   0   0   0   0   0   0   0   0   0\n",
      "   0   0   0   0   0   0   0   0   0   0   0   0   0   0]\n",
      "Good budget smart watch with alexa\n",
      "[0.9130568]\n",
      "\n",
      "\n",
      "[812 227 864 505 102   7 652 153 333  51 703 775 225 857 864   0   0   0\n",
      "   0   0   0   0   0   0   0   0   0   0   0   0   0   0   0   0   0   0\n",
      "   0   0   0   0   0   0   0   0   0   0   0   0   0   0]\n",
      "Everythig is perfect except battery\n",
      "[0.9072575]\n",
      "\n",
      "\n",
      "[825 133 340 303 129  86   0   0   0   0   0   0   0   0   0   0   0   0\n",
      "   0   0   0   0   0   0   0   0   0   0   0   0   0   0   0   0   0   0\n",
      "   0   0   0   0   0   0   0   0   0   0   0   0   0   0]\n",
      "Reliable product\n",
      "[0.11418042]\n",
      "\n",
      "\n",
      "[735 864  55 392 171 641   0   0   0   0   0   0   0   0   0   0   0   0\n",
      "   0   0   0   0   0   0   0   0   0   0   0   0   0   0   0   0   0   0\n",
      "   0   0   0   0   0   0   0   0   0   0   0   0   0   0]\n",
      "Stylish watch\n",
      "[0.2889164]\n",
      "\n",
      "\n"
     ]
    }
   ],
   "source": [
    "# Use the model to predict some reviews   \n",
    "# fake_reviews = [\"I love this phone\", \n",
    "#                 \"Everything was cold\",\n",
    "#                 \"Everything was hot exactly as I wanted\", \n",
    "#                 \"Everything was green\", \n",
    "#                 \"the host seated us immediately\",\n",
    "#                 \"they gave us free chocolate cake\", \n",
    "#                 \"we couldn't hear each other talk because of the shouting in the kitchen\"\n",
    "#               ]\n",
    "fake_reviews = [\n",
    "    \"Not worthy the money\",\n",
    "    \"Best budget watch\",\n",
    "    \"Good budget smart watch with alexa\",\n",
    "    \"Everythig is perfect except battery\",\n",
    "    \"Reliable product\",\n",
    "    \"Stylish watch\"\n",
    "]\n",
    "predict_review(model, fake_reviews)\n"
   ]
  },
  {
   "cell_type": "code",
   "execution_count": 13,
   "id": "935fbdef",
   "metadata": {},
   "outputs": [],
   "source": [
    "def fit_model_now (model, sentences) :\n",
    "  model.compile(loss='binary_crossentropy',optimizer='adam',metrics=['accuracy'])\n",
    "  model.summary()\n",
    "  history = model.fit(training_sequences, training_labels_final, epochs=num_epochs, \n",
    "                      validation_data=(testing_sequences, testing_labels_final))\n",
    "  return history\n",
    "\n",
    "def plot_results (history):\n",
    "  plot_graphs(history, \"accuracy\")\n",
    "  plot_graphs(history, \"loss\")\n",
    "\n",
    "def fit_model_and_show_results (model, sentences):\n",
    "  history = fit_model_now(model, sentences)\n",
    "  plot_results(history)\n",
    "  predict_review(model, sentences)"
   ]
  },
  {
   "cell_type": "markdown",
   "id": "4352cd49",
   "metadata": {},
   "source": [
    "# Add a bidirectional LSTM"
   ]
  },
  {
   "cell_type": "code",
   "execution_count": 24,
   "id": "3808bd95",
   "metadata": {},
   "outputs": [
    {
     "name": "stdout",
     "output_type": "stream",
     "text": [
      "Model: \"sequential_5\"\n",
      "_________________________________________________________________\n",
      " Layer (type)                Output Shape              Param #   \n",
      "=================================================================\n",
      " embedding_5 (Embedding)     (None, 50, 16)            16000     \n",
      "                                                                 \n",
      " bidirectional_7 (Bidirectio  (None, 32)               4224      \n",
      " nal)                                                            \n",
      "                                                                 \n",
      " dense_10 (Dense)            (None, 6)                 198       \n",
      "                                                                 \n",
      " dense_11 (Dense)            (None, 1)                 7         \n",
      "                                                                 \n",
      "=================================================================\n",
      "Total params: 20,429\n",
      "Trainable params: 20,429\n",
      "Non-trainable params: 0\n",
      "_________________________________________________________________\n",
      "Epoch 1/30\n",
      "50/50 [==============================] - 8s 50ms/step - loss: 0.6897 - accuracy: 0.5242 - val_loss: 0.7064 - val_accuracy: 0.4135\n",
      "Epoch 2/30\n",
      "50/50 [==============================] - 1s 25ms/step - loss: 0.6560 - accuracy: 0.6208 - val_loss: 0.6675 - val_accuracy: 0.5363\n",
      "Epoch 3/30\n",
      "50/50 [==============================] - 1s 25ms/step - loss: 0.5217 - accuracy: 0.7621 - val_loss: 0.4964 - val_accuracy: 0.7870\n",
      "Epoch 4/30\n",
      "50/50 [==============================] - 1s 26ms/step - loss: 0.3702 - accuracy: 0.8537 - val_loss: 0.5197 - val_accuracy: 0.7569\n",
      "Epoch 5/30\n",
      "50/50 [==============================] - 1s 26ms/step - loss: 0.2689 - accuracy: 0.9046 - val_loss: 0.5092 - val_accuracy: 0.7569\n",
      "Epoch 6/30\n",
      "50/50 [==============================] - 1s 27ms/step - loss: 0.2185 - accuracy: 0.9234 - val_loss: 0.6341 - val_accuracy: 0.7569\n",
      "Epoch 7/30\n",
      "50/50 [==============================] - 2s 30ms/step - loss: 0.1761 - accuracy: 0.9422 - val_loss: 0.7001 - val_accuracy: 0.7519\n",
      "Epoch 8/30\n",
      "50/50 [==============================] - 1s 29ms/step - loss: 0.1476 - accuracy: 0.9567 - val_loss: 0.7564 - val_accuracy: 0.7644\n",
      "Epoch 9/30\n",
      "50/50 [==============================] - 1s 28ms/step - loss: 0.1169 - accuracy: 0.9705 - val_loss: 0.8844 - val_accuracy: 0.7469\n",
      "Epoch 10/30\n",
      "50/50 [==============================] - 1s 26ms/step - loss: 0.0967 - accuracy: 0.9774 - val_loss: 0.8806 - val_accuracy: 0.7519\n",
      "Epoch 11/30\n",
      "50/50 [==============================] - 1s 26ms/step - loss: 0.1083 - accuracy: 0.9667 - val_loss: 1.0641 - val_accuracy: 0.7343\n",
      "Epoch 12/30\n",
      "50/50 [==============================] - 1s 29ms/step - loss: 0.0833 - accuracy: 0.9849 - val_loss: 0.9954 - val_accuracy: 0.7393\n",
      "Epoch 13/30\n",
      "50/50 [==============================] - 1s 26ms/step - loss: 0.0695 - accuracy: 0.9868 - val_loss: 1.0667 - val_accuracy: 0.7393\n",
      "Epoch 14/30\n",
      "50/50 [==============================] - 1s 26ms/step - loss: 0.0611 - accuracy: 0.9881 - val_loss: 1.0783 - val_accuracy: 0.7469\n",
      "Epoch 15/30\n",
      "50/50 [==============================] - 1s 26ms/step - loss: 0.0541 - accuracy: 0.9906 - val_loss: 1.0332 - val_accuracy: 0.7494\n",
      "Epoch 16/30\n",
      "50/50 [==============================] - 1s 25ms/step - loss: 0.0657 - accuracy: 0.9881 - val_loss: 1.2041 - val_accuracy: 0.7393\n",
      "Epoch 17/30\n",
      "50/50 [==============================] - 1s 27ms/step - loss: 0.0571 - accuracy: 0.9906 - val_loss: 1.0523 - val_accuracy: 0.7594\n",
      "Epoch 18/30\n",
      "50/50 [==============================] - 1s 27ms/step - loss: 0.1100 - accuracy: 0.9730 - val_loss: 1.1494 - val_accuracy: 0.7393\n",
      "Epoch 19/30\n",
      "50/50 [==============================] - 1s 27ms/step - loss: 0.0826 - accuracy: 0.9768 - val_loss: 1.2524 - val_accuracy: 0.7318\n",
      "Epoch 20/30\n",
      "50/50 [==============================] - 1s 25ms/step - loss: 0.0641 - accuracy: 0.9849 - val_loss: 1.1799 - val_accuracy: 0.7419\n",
      "Epoch 21/30\n",
      "50/50 [==============================] - 1s 26ms/step - loss: 0.0491 - accuracy: 0.9912 - val_loss: 1.2690 - val_accuracy: 0.7393\n",
      "Epoch 22/30\n",
      "50/50 [==============================] - 1s 27ms/step - loss: 0.0430 - accuracy: 0.9925 - val_loss: 1.3311 - val_accuracy: 0.7393\n",
      "Epoch 23/30\n",
      "50/50 [==============================] - 1s 27ms/step - loss: 0.0393 - accuracy: 0.9931 - val_loss: 1.3254 - val_accuracy: 0.7368\n",
      "Epoch 24/30\n",
      "50/50 [==============================] - 1s 27ms/step - loss: 0.0368 - accuracy: 0.9937 - val_loss: 1.3835 - val_accuracy: 0.7293\n",
      "Epoch 25/30\n",
      "50/50 [==============================] - 1s 26ms/step - loss: 0.0362 - accuracy: 0.9937 - val_loss: 1.4018 - val_accuracy: 0.7343\n",
      "Epoch 26/30\n",
      "50/50 [==============================] - 1s 27ms/step - loss: 0.0358 - accuracy: 0.9937 - val_loss: 1.4156 - val_accuracy: 0.7343\n",
      "Epoch 27/30\n",
      "50/50 [==============================] - 1s 26ms/step - loss: 0.0353 - accuracy: 0.9937 - val_loss: 1.4270 - val_accuracy: 0.7318\n",
      "Epoch 28/30\n",
      "50/50 [==============================] - 1s 26ms/step - loss: 0.0348 - accuracy: 0.9937 - val_loss: 1.4461 - val_accuracy: 0.7268\n",
      "Epoch 29/30\n",
      "50/50 [==============================] - 1s 27ms/step - loss: 0.0335 - accuracy: 0.9937 - val_loss: 1.4449 - val_accuracy: 0.7318\n",
      "Epoch 30/30\n",
      "50/50 [==============================] - 1s 29ms/step - loss: 0.0315 - accuracy: 0.9937 - val_loss: 1.4546 - val_accuracy: 0.7419\n"
     ]
    },
    {
     "data": {
      "image/png": "[encoded data removed]",
      "text/plain": [
       "<Figure size 432x288 with 1 Axes>"
      ]
     },
     "metadata": {
      "needs_background": "light"
     },
     "output_type": "display_data"
    },
    {
     "data": {
      "image/png": "[encoded data removed]",
      "text/plain": [
       "<Figure size 432x288 with 1 Axes>"
      ]
     },
     "metadata": {
      "needs_background": "light"
     },
     "output_type": "display_data"
    },
    {
     "name": "stdout",
     "output_type": "stream",
     "text": [
      "WARNING:tensorflow:5 out of the last 9 calls to <function Model.make_predict_function.<locals>.predict_function at 0x000001D17E005870> triggered tf.function retracing. Tracing is expensive and the excessive number of tracings could be due to (1) creating @tf.function repeatedly in a loop, (2) passing tensors with different shapes, (3) passing Python objects instead of tensors. For (1), please define your @tf.function outside of the loop. For (2), @tf.function has reduce_retracing=True option that can avoid unnecessary retracing. For (3), please refer to https://www.tensorflow.org/guide/function#controlling_retracing and https://www.tensorflow.org/api_docs/python/tf/function for  more details.\n"
     ]
    },
    {
     "name": "stderr",
     "output_type": "stream",
     "text": [
      "WARNING:tensorflow:5 out of the last 9 calls to <function Model.make_predict_function.<locals>.predict_function at 0x000001D17E005870> triggered tf.function retracing. Tracing is expensive and the excessive number of tracings could be due to (1) creating @tf.function repeatedly in a loop, (2) passing tensors with different shapes, (3) passing Python objects instead of tensors. For (1), please define your @tf.function outside of the loop. For (2), @tf.function has reduce_retracing=True option that can avoid unnecessary retracing. For (3), please refer to https://www.tensorflow.org/guide/function#controlling_retracing and https://www.tensorflow.org/api_docs/python/tf/function for  more details.\n"
     ]
    },
    {
     "name": "stdout",
     "output_type": "stream",
     "text": [
      "1/1 [==============================] - 1s 856ms/step\n",
      "[385 691  10   1 395   0   0   0   0   0   0   0   0   0   0   0   0   0\n",
      "   0   0   0   0   0   0   0   0   0   0   0   0   0   0   0   0   0   0\n",
      "   0   0   0   0   0   0   0   0   0   0   0   0   0   0]\n",
      "Not worthy the money\n",
      "[0.00839437]\n",
      "\n",
      "\n",
      "[493 228 105 843 175 171 641   0   0   0   0   0   0   0   0   0   0   0\n",
      "   0   0   0   0   0   0   0   0   0   0   0   0   0   0   0   0   0   0\n",
      "   0   0   0   0   0   0   0   0   0   0   0   0   0   0]\n",
      "Best budget watch\n",
      "[0.22341965]\n",
      "\n",
      "\n",
      "[625 105 843 175 309  58   8 171 641 775  23 180 333 840   0   0   0   0\n",
      "   0   0   0   0   0   0   0   0   0   0   0   0   0   0   0   0   0   0\n",
      "   0   0   0   0   0   0   0   0   0   0   0   0   0   0]\n",
      "Good budget smart watch with alexa\n",
      "[0.9994053]\n",
      "\n",
      "\n",
      "[812 227 864 505 102   7 652 153 333  51 703 775 225 857 864   0   0   0\n",
      "   0   0   0   0   0   0   0   0   0   0   0   0   0   0   0   0   0   0\n",
      "   0   0   0   0   0   0   0   0   0   0   0   0   0   0]\n",
      "Everythig is perfect except battery\n",
      "[0.9999412]\n",
      "\n",
      "\n",
      "[825 133 340 303 129  86   0   0   0   0   0   0   0   0   0   0   0   0\n",
      "   0   0   0   0   0   0   0   0   0   0   0   0   0   0   0   0   0   0\n",
      "   0   0   0   0   0   0   0   0   0   0   0   0   0   0]\n",
      "Reliable product\n",
      "[0.01189879]\n",
      "\n",
      "\n",
      "[735 864  55 392 171 641   0   0   0   0   0   0   0   0   0   0   0   0\n",
      "   0   0   0   0   0   0   0   0   0   0   0   0   0   0   0   0   0   0\n",
      "   0   0   0   0   0   0   0   0   0   0   0   0   0   0]\n",
      "Stylish watch\n",
      "[0.67948985]\n",
      "\n",
      "\n"
     ]
    }
   ],
   "source": [
    "# Define the model\n",
    "model_bidi_lstm = tf.keras.Sequential([\n",
    "    tf.keras.layers.Embedding(vocab_size, embedding_dim, input_length=max_length),\n",
    "    tf.keras.layers.Bidirectional(tf.keras.layers.LSTM(embedding_dim)), \n",
    "    tf.keras.layers.Dense(6, activation='relu'), \n",
    "    tf.keras.layers.Dense(1, activation='sigmoid')\n",
    "])\n",
    "\n",
    "# Compile and train the model and then show the predictions for our extra sentences\n",
    "fit_model_and_show_results(model_bidi_lstm, fake_reviews)"
   ]
  },
  {
   "cell_type": "markdown",
   "id": "427ad68b",
   "metadata": {},
   "source": [
    "# Use multiple bidirectional layers"
   ]
  },
  {
   "cell_type": "code",
   "execution_count": 23,
   "id": "0c127a35",
   "metadata": {},
   "outputs": [
    {
     "name": "stdout",
     "output_type": "stream",
     "text": [
      "Model: \"sequential_4\"\n",
      "_________________________________________________________________\n",
      " Layer (type)                Output Shape              Param #   \n",
      "=================================================================\n",
      " embedding_4 (Embedding)     (None, 50, 16)            16000     \n",
      "                                                                 \n",
      " bidirectional_5 (Bidirectio  (None, 50, 32)           4224      \n",
      " nal)                                                            \n",
      "                                                                 \n",
      " bidirectional_6 (Bidirectio  (None, 32)               6272      \n",
      " nal)                                                            \n",
      "                                                                 \n",
      " dense_8 (Dense)             (None, 6)                 198       \n",
      "                                                                 \n",
      " dense_9 (Dense)             (None, 1)                 7         \n",
      "                                                                 \n",
      "=================================================================\n",
      "Total params: 26,701\n",
      "Trainable params: 26,701\n",
      "Non-trainable params: 0\n",
      "_________________________________________________________________\n",
      "Epoch 1/30\n",
      "50/50 [==============================] - 12s 84ms/step - loss: 0.6916 - accuracy: 0.5141 - val_loss: 0.6962 - val_accuracy: 0.4110\n",
      "Epoch 2/30\n",
      "50/50 [==============================] - 3s 50ms/step - loss: 0.6345 - accuracy: 0.6328 - val_loss: 0.5736 - val_accuracy: 0.7419\n",
      "Epoch 3/30\n",
      "50/50 [==============================] - 2s 48ms/step - loss: 0.4187 - accuracy: 0.8255 - val_loss: 0.5187 - val_accuracy: 0.7544\n",
      "Epoch 4/30\n",
      "50/50 [==============================] - 2s 48ms/step - loss: 0.3108 - accuracy: 0.8832 - val_loss: 0.5577 - val_accuracy: 0.7594\n",
      "Epoch 5/30\n",
      "50/50 [==============================] - 2s 50ms/step - loss: 0.2464 - accuracy: 0.9178 - val_loss: 0.5865 - val_accuracy: 0.7619\n",
      "Epoch 6/30\n",
      "50/50 [==============================] - 2s 48ms/step - loss: 0.2068 - accuracy: 0.9322 - val_loss: 0.7202 - val_accuracy: 0.7494\n",
      "Epoch 7/30\n",
      "50/50 [==============================] - 2s 48ms/step - loss: 0.1832 - accuracy: 0.9435 - val_loss: 0.6321 - val_accuracy: 0.7744\n",
      "Epoch 8/30\n",
      "50/50 [==============================] - 3s 52ms/step - loss: 0.1602 - accuracy: 0.9535 - val_loss: 0.6805 - val_accuracy: 0.7594\n",
      "Epoch 9/30\n",
      "50/50 [==============================] - 3s 54ms/step - loss: 0.1397 - accuracy: 0.9605 - val_loss: 0.8314 - val_accuracy: 0.7469\n",
      "Epoch 10/30\n",
      "50/50 [==============================] - 2s 50ms/step - loss: 0.1204 - accuracy: 0.9648 - val_loss: 0.7660 - val_accuracy: 0.7519\n",
      "Epoch 11/30\n",
      "50/50 [==============================] - 2s 47ms/step - loss: 0.0931 - accuracy: 0.9761 - val_loss: 0.8986 - val_accuracy: 0.7519\n",
      "Epoch 12/30\n",
      "50/50 [==============================] - 2s 47ms/step - loss: 0.0817 - accuracy: 0.9824 - val_loss: 0.9538 - val_accuracy: 0.7419\n",
      "Epoch 13/30\n",
      "50/50 [==============================] - 3s 52ms/step - loss: 0.0822 - accuracy: 0.9799 - val_loss: 0.9309 - val_accuracy: 0.7419\n",
      "Epoch 14/30\n",
      "50/50 [==============================] - 2s 47ms/step - loss: 0.0739 - accuracy: 0.9831 - val_loss: 1.0124 - val_accuracy: 0.7469\n",
      "Epoch 15/30\n",
      "50/50 [==============================] - 2s 48ms/step - loss: 0.0797 - accuracy: 0.9799 - val_loss: 1.1136 - val_accuracy: 0.7268\n",
      "Epoch 16/30\n",
      "50/50 [==============================] - 2s 48ms/step - loss: 0.0743 - accuracy: 0.9787 - val_loss: 0.9716 - val_accuracy: 0.7444\n",
      "Epoch 17/30\n",
      "50/50 [==============================] - 2s 49ms/step - loss: 0.0751 - accuracy: 0.9805 - val_loss: 1.1388 - val_accuracy: 0.7318\n",
      "Epoch 18/30\n",
      "50/50 [==============================] - 2s 47ms/step - loss: 0.0817 - accuracy: 0.9768 - val_loss: 1.0446 - val_accuracy: 0.7469\n",
      "Epoch 19/30\n",
      "50/50 [==============================] - 2s 47ms/step - loss: 0.0563 - accuracy: 0.9874 - val_loss: 1.1817 - val_accuracy: 0.7368\n",
      "Epoch 20/30\n",
      "50/50 [==============================] - 2s 47ms/step - loss: 0.0558 - accuracy: 0.9887 - val_loss: 1.1047 - val_accuracy: 0.7368\n",
      "Epoch 21/30\n",
      "50/50 [==============================] - 2s 47ms/step - loss: 0.0536 - accuracy: 0.9887 - val_loss: 1.1324 - val_accuracy: 0.7318\n",
      "Epoch 22/30\n",
      "50/50 [==============================] - 2s 47ms/step - loss: 0.0652 - accuracy: 0.9849 - val_loss: 1.2436 - val_accuracy: 0.7193\n",
      "Epoch 23/30\n",
      "50/50 [==============================] - 3s 58ms/step - loss: 0.0874 - accuracy: 0.9761 - val_loss: 1.1642 - val_accuracy: 0.7193\n",
      "Epoch 24/30\n",
      "50/50 [==============================] - 3s 51ms/step - loss: 0.0549 - accuracy: 0.9887 - val_loss: 1.1905 - val_accuracy: 0.7193\n",
      "Epoch 25/30\n",
      "50/50 [==============================] - 2s 48ms/step - loss: 0.0472 - accuracy: 0.9906 - val_loss: 1.1939 - val_accuracy: 0.7343\n",
      "Epoch 26/30\n",
      "50/50 [==============================] - 2s 49ms/step - loss: 0.0440 - accuracy: 0.9918 - val_loss: 1.2842 - val_accuracy: 0.7268\n",
      "Epoch 27/30\n",
      "50/50 [==============================] - 2s 48ms/step - loss: 0.0430 - accuracy: 0.9918 - val_loss: 1.3045 - val_accuracy: 0.7268\n",
      "Epoch 28/30\n",
      "50/50 [==============================] - 3s 51ms/step - loss: 0.0427 - accuracy: 0.9918 - val_loss: 1.3130 - val_accuracy: 0.7293\n",
      "Epoch 29/30\n",
      "50/50 [==============================] - 3s 53ms/step - loss: 0.0419 - accuracy: 0.9918 - val_loss: 1.3386 - val_accuracy: 0.7293\n",
      "Epoch 30/30\n",
      "50/50 [==============================] - 2s 47ms/step - loss: 0.0416 - accuracy: 0.9918 - val_loss: 1.3121 - val_accuracy: 0.7318\n"
     ]
    },
    {
     "data": {
      "image/png": "[encoded data removed]",
      "text/plain": [
       "<Figure size 432x288 with 1 Axes>"
      ]
     },
     "metadata": {
      "needs_background": "light"
     },
     "output_type": "display_data"
    },
    {
     "data": {
      "image/png": "[encoded data removed]",
      "text/plain": [
       "<Figure size 432x288 with 1 Axes>"
      ]
     },
     "metadata": {
      "needs_background": "light"
     },
     "output_type": "display_data"
    },
    {
     "name": "stdout",
     "output_type": "stream",
     "text": [
      "1/1 [==============================] - 2s 2s/step\n",
      "[385 691  10   1 395   0   0   0   0   0   0   0   0   0   0   0   0   0\n",
      "   0   0   0   0   0   0   0   0   0   0   0   0   0   0   0   0   0   0\n",
      "   0   0   0   0   0   0   0   0   0   0   0   0   0   0]\n",
      "Not worthy the money\n",
      "[0.02193924]\n",
      "\n",
      "\n",
      "[493 228 105 843 175 171 641   0   0   0   0   0   0   0   0   0   0   0\n",
      "   0   0   0   0   0   0   0   0   0   0   0   0   0   0   0   0   0   0\n",
      "   0   0   0   0   0   0   0   0   0   0   0   0   0   0]\n",
      "Best budget watch\n",
      "[0.01957849]\n",
      "\n",
      "\n",
      "[625 105 843 175 309  58   8 171 641 775  23 180 333 840   0   0   0   0\n",
      "   0   0   0   0   0   0   0   0   0   0   0   0   0   0   0   0   0   0\n",
      "   0   0   0   0   0   0   0   0   0   0   0   0   0   0]\n",
      "Good budget smart watch with alexa\n",
      "[0.99866855]\n",
      "\n",
      "\n",
      "[812 227 864 505 102   7 652 153 333  51 703 775 225 857 864   0   0   0\n",
      "   0   0   0   0   0   0   0   0   0   0   0   0   0   0   0   0   0   0\n",
      "   0   0   0   0   0   0   0   0   0   0   0   0   0   0]\n",
      "Everythig is perfect except battery\n",
      "[0.99897504]\n",
      "\n",
      "\n",
      "[825 133 340 303 129  86   0   0   0   0   0   0   0   0   0   0   0   0\n",
      "   0   0   0   0   0   0   0   0   0   0   0   0   0   0   0   0   0   0\n",
      "   0   0   0   0   0   0   0   0   0   0   0   0   0   0]\n",
      "Reliable product\n",
      "[0.01500791]\n",
      "\n",
      "\n",
      "[735 864  55 392 171 641   0   0   0   0   0   0   0   0   0   0   0   0\n",
      "   0   0   0   0   0   0   0   0   0   0   0   0   0   0   0   0   0   0\n",
      "   0   0   0   0   0   0   0   0   0   0   0   0   0   0]\n",
      "Stylish watch\n",
      "[0.01413473]\n",
      "\n",
      "\n"
     ]
    }
   ],
   "source": [
    "model_multiple_bidi_lstm = tf.keras.Sequential([\n",
    "    tf.keras.layers.Embedding(vocab_size, embedding_dim, input_length=max_length),\n",
    "    tf.keras.layers.Bidirectional(tf.keras.layers.LSTM(embedding_dim, \n",
    "                                                       return_sequences=True)), \n",
    "    tf.keras.layers.Bidirectional(tf.keras.layers.LSTM(embedding_dim)),\n",
    "    tf.keras.layers.Dense(6, activation='relu'),\n",
    "    tf.keras.layers.Dense(1, activation='sigmoid')\n",
    "])\n",
    "fit_model_and_show_results(model_multiple_bidi_lstm, fake_reviews)"
   ]
  },
  {
   "cell_type": "markdown",
   "id": "263f8965",
   "metadata": {},
   "source": [
    "# Compare predictions for all the models"
   ]
  },
  {
   "cell_type": "code",
   "execution_count": 18,
   "id": "b03f8f65",
   "metadata": {},
   "outputs": [],
   "source": [
    "my_reviews =[\"lovely\", \"dreadful\", \"stay away\",\n",
    "             \"everything was hot exactly as I wanted\",\n",
    "             \"everything was not exactly as I wanted\",\n",
    "             \"they gave us free chocolate cake\",\n",
    "             \"I've never eaten anything so spicy in my life, my throat burned for hours\",\n",
    "             \"for a phone that is as expensive as this one I expect it to be much easier to use than this thing is\",\n",
    "             \"we left there very full for a low price so I'd say you just can't go wrong at this place\",\n",
    "             \"that place does not have quality meals and it isn't a good place to go for dinner\",\n",
    "             ]"
   ]
  },
  {
   "cell_type": "code",
   "execution_count": 19,
   "id": "719df5c6",
   "metadata": {},
   "outputs": [
    {
     "name": "stdout",
     "output_type": "stream",
     "text": [
      "===================================\n",
      " Embeddings only:\n",
      " ===================================\n",
      "1/1 [==============================] - 0s 25ms/step\n",
      "lovely\n",
      "[0.9287092]\n",
      "\n",
      "\n",
      "dreadful\n",
      "[0.20284419]\n",
      "\n",
      "\n",
      "stay away\n",
      "[0.58296925]\n",
      "\n",
      "\n",
      "everything was hot exactly as I wanted\n",
      "[0.7693107]\n",
      "\n",
      "\n",
      "everything was not exactly as I wanted\n",
      "[0.5179549]\n",
      "\n",
      "\n",
      "they gave us free chocolate cake\n",
      "[0.6638564]\n",
      "\n",
      "\n",
      "I've never eaten anything so spicy in my life, my throat burned for hours\n",
      "[0.01229362]\n",
      "\n",
      "\n",
      "for a phone that is as expensive as this one I expect it to be much easier to use than this thing is\n",
      "[0.673906]\n",
      "\n",
      "\n",
      "we left there very full for a low price so I'd say you just can't go wrong at this place\n",
      "[0.75429386]\n",
      "\n",
      "\n",
      "that place does not have quality meals and it isn't a good place to go for dinner\n",
      "[0.84501237]\n",
      "\n",
      "\n"
     ]
    }
   ],
   "source": [
    "print(\"===================================\\n\",\"Embeddings only:\\n\", \"===================================\",)\n",
    "predict_review(model, my_reviews, show_padded_sequence=False)"
   ]
  },
  {
   "cell_type": "code",
   "execution_count": 20,
   "id": "d3f399eb",
   "metadata": {},
   "outputs": [
    {
     "name": "stdout",
     "output_type": "stream",
     "text": [
      "===================================\n",
      " With a single bidirectional LSTM:\n",
      " ===================================\n",
      "1/1 [==============================] - 0s 47ms/step\n",
      "lovely\n",
      "[0.99924046]\n",
      "\n",
      "\n",
      "dreadful\n",
      "[0.00116935]\n",
      "\n",
      "\n",
      "stay away\n",
      "[0.00549171]\n",
      "\n",
      "\n",
      "everything was hot exactly as I wanted\n",
      "[0.99993193]\n",
      "\n",
      "\n",
      "everything was not exactly as I wanted\n",
      "[0.22833596]\n",
      "\n",
      "\n",
      "they gave us free chocolate cake\n",
      "[0.49225432]\n",
      "\n",
      "\n",
      "I've never eaten anything so spicy in my life, my throat burned for hours\n",
      "[0.04682762]\n",
      "\n",
      "\n",
      "for a phone that is as expensive as this one I expect it to be much easier to use than this thing is\n",
      "[0.7443873]\n",
      "\n",
      "\n",
      "we left there very full for a low price so I'd say you just can't go wrong at this place\n",
      "[0.9999501]\n",
      "\n",
      "\n",
      "that place does not have quality meals and it isn't a good place to go for dinner\n",
      "[0.92003334]\n",
      "\n",
      "\n"
     ]
    }
   ],
   "source": [
    "print(\"===================================\\n\", \"With a single bidirectional LSTM:\\n\", \"===================================\")\n",
    "predict_review(model_bidi_lstm, my_reviews, show_padded_sequence=False)"
   ]
  },
  {
   "cell_type": "code",
   "execution_count": 21,
   "id": "04f13f13",
   "metadata": {},
   "outputs": [
    {
     "name": "stdout",
     "output_type": "stream",
     "text": [
      "===================================\n",
      " With two bidirectional LSTMs:\n",
      " ===================================\n",
      "1/1 [==============================] - 0s 40ms/step\n",
      "lovely\n",
      "[0.9996734]\n",
      "\n",
      "\n",
      "dreadful\n",
      "[0.01510769]\n",
      "\n",
      "\n",
      "stay away\n",
      "[0.02022533]\n",
      "\n",
      "\n",
      "everything was hot exactly as I wanted\n",
      "[0.01797825]\n",
      "\n",
      "\n",
      "everything was not exactly as I wanted\n",
      "[0.0163006]\n",
      "\n",
      "\n",
      "they gave us free chocolate cake\n",
      "[0.94695306]\n",
      "\n",
      "\n",
      "I've never eaten anything so spicy in my life, my throat burned for hours\n",
      "[0.01764807]\n",
      "\n",
      "\n",
      "for a phone that is as expensive as this one I expect it to be much easier to use than this thing is\n",
      "[0.0173374]\n",
      "\n",
      "\n",
      "we left there very full for a low price so I'd say you just can't go wrong at this place\n",
      "[0.01541255]\n",
      "\n",
      "\n",
      "that place does not have quality meals and it isn't a good place to go for dinner\n",
      "[0.0172113]\n",
      "\n",
      "\n"
     ]
    }
   ],
   "source": [
    "print(\"===================================\\n\",\"With two bidirectional LSTMs:\\n\", \"===================================\")\n",
    "predict_review(model_multiple_bidi_lstm, my_reviews, show_padded_sequence=False)"
   ]
  },
  {
   "cell_type": "code",
   "execution_count": null,
   "id": "4fccafe5",
   "metadata": {},
   "outputs": [],
   "source": []
  }
 ],
 "metadata": {
  "kernelspec": {
   "display_name": "Python 3 (ipykernel)",
   "language": "python",
   "name": "python3"
  },
  "language_info": {
   "codemirror_mode": {
    "name": "ipython",
    "version": 3
   },
   "file_extension": ".py",
   "mimetype": "text/x-python",
   "name": "python",
   "nbconvert_exporter": "python",
   "pygments_lexer": "ipython3",
   "version": "3.10.1"
  }
 },
 "nbformat": 4,
 "nbformat_minor": 5
}
